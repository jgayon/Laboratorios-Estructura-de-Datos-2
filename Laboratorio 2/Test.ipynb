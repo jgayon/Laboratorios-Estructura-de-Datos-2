{
 "cells": [
  {
   "cell_type": "code",
   "execution_count": null,
   "metadata": {},
   "outputs": [],
   "source": [
    "import math\n",
    "\n",
    "def haversine_distance(lat1, lon1, lat2, lon2):\n",
    "  # Convertir grados a radianes\n",
    "  lat1 = math.radians(lat1)\n",
    "  lon1 = math.radians(lon1)\n",
    "  lat2 = math.radians(lat2)\n",
    "  lon2 = math.radians(lon2)\n",
    "\n",
    "  # Diferencia de latitudes y longitudes\n",
    "  dlat = lat2 - lat1\n",
    "  dlon = lon2 - lon1\n",
    "\n",
    "  # Cálculo del seno y coseno de las diferencias\n",
    "  a = math.sin(dlat / 2) ** 2 + math.cos(lat1) * math.sin(lat2) * math.sin(dlon / 2) ** 2\n",
    "  c = 2 * math.atan2(math.sqrt(a), math.sqrt(1 - a))\n",
    "\n",
    "  # Radio de la Tierra (en kilómetros)\n",
    "  R = 6371\n",
    "\n",
    "  # Distancia entre dos puntos\n",
    "  distance = R * c\n",
    "\n",
    "  return distance\n",
    "\n",
    "\n",
    "lat1 = 10.96854\n",
    "lon1 = -74.78132\n",
    "lat2 = 4.60971 \n",
    "lon2 = -74.08175\n",
    "x = haversine_distance(lat1,lon1,lat2,lon2)\n",
    "print(x)"
   ]
  },
  {
   "cell_type": "code",
   "execution_count": null,
   "metadata": {},
   "outputs": [],
   "source": [
    "import pandas as pd\n",
    "\n",
    "df = pd.read_csv('flights_final.csv')\n",
    "\n",
    "df.head()"
   ]
  },
  {
   "cell_type": "code",
   "execution_count": null,
   "metadata": {},
   "outputs": [],
   "source": [
    "# Creación de un diccionario para almacenar los aeropuertos y sus coordenadas\n",
    "airports = {}\n",
    "for index, row in df.iterrows():\n",
    "  airport_code = row['Source Airport Code']\n",
    "  name= row['Source Airport Name']\n",
    "  latitude = row['Source Airport Latitude']\n",
    "  longitude = row['Source Airport Longitude']\n",
    "  city = row['Source Airport City']\n",
    "  country = row['Source Airport Country']\n",
    "  \n",
    "  airports[airport_code] = [(latitude, longitude),name,city,country]\n",
    "\n",
    "#Creaccion diccionario destinos de viajes por Aeropuertos\n",
    "airports_trips={}\n",
    "for element in airports:\n",
    "  airports_trips[element]=[]\n",
    "\n",
    "for index, row in df.iterrows():\n",
    "  airport_code = row['Source Airport Code']\n",
    "  destination_code = row['Destination Airport Code']\n",
    "  airports_trips[airport_code].append(destination_code)"
   ]
  },
  {
   "cell_type": "code",
   "execution_count": null,
   "metadata": {},
   "outputs": [],
   "source": [
    "import networkx as nx\n",
    "\n",
    "# Creación del grafo\n",
    "G = nx.Graph()\n",
    "\n",
    "# Adición de nodos (aeropuertos)\n",
    "for airport_code in airports:\n",
    "  G.add_node(airport_code)\n",
    "\n",
    "# Adición de aristas (rutas aéreas) con distancia como peso\n",
    "for element in airports:\n",
    "  for trip in airports_trips[element]:\n",
    "    source_code = airports[element]\n",
    "    destination_code = airports_trips[trip]\n",
    "    lat1, lon1 = airports[element][0]\n",
    "    lat2, lon2 = airports[destination_code][0]\n",
    "    distance = haversine_distance(lat1, lon1, lat2, lon2)\n",
    "    G.add_edge(source_code, destination_code, weight=distance)"
   ]
  }
 ],
 "metadata": {
  "kernelspec": {
   "display_name": "base",
   "language": "python",
   "name": "python3"
  },
  "language_info": {
   "codemirror_mode": {
    "name": "ipython",
    "version": 3
   },
   "file_extension": ".py",
   "mimetype": "text/x-python",
   "name": "python",
   "nbconvert_exporter": "python",
   "pygments_lexer": "ipython3",
   "version": "3.11.7"
  }
 },
 "nbformat": 4,
 "nbformat_minor": 2
}
